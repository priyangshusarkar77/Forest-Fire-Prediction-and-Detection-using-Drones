{
 "cells": [
  {
   "cell_type": "markdown",
   "id": "e06c8947",
   "metadata": {},
   "source": [
    "Importing the required libraries"
   ]
  },
  {
   "cell_type": "code",
   "execution_count": null,
   "id": "327c7a32",
   "metadata": {},
   "outputs": [],
   "source": [
    "import os\n",
    "import numpy as np\n",
    "from tensorflow.keras.preprocessing.image import load_img, img_to_array"
   ]
  },
  {
   "cell_type": "markdown",
   "id": "34af3eb6",
   "metadata": {},
   "source": [
    "Creating empty lists to store image and their corresponding label"
   ]
  },
  {
   "cell_type": "code",
   "execution_count": 16,
   "id": "ca85edd1",
   "metadata": {},
   "outputs": [],
   "source": [
    "image_data, label = list(), list()"
   ]
  },
  {
   "cell_type": "code",
   "execution_count": 17,
   "id": "97e91a9e",
   "metadata": {},
   "outputs": [],
   "source": [
    "folder_path = r\"D:/Chandigarh University/Current Sem/Minor Project/Researh/Dataset/Final Image Dataset/\""
   ]
  },
  {
   "cell_type": "markdown",
   "id": "8f3f17ba",
   "metadata": {},
   "source": [
    "Looping through each folder and each file. First we will load the image and next, we will convert the image into numpy array and store it in the above image_data list. Parallelly, the labels are also added accordingly"
   ]
  },
  {
   "cell_type": "code",
   "execution_count": 19,
   "id": "7819f12d",
   "metadata": {},
   "outputs": [
    {
     "name": "stdout",
     "output_type": "stream",
     "text": [
      "(6681,)\n"
     ]
    }
   ],
   "source": [
    "for folder in os.listdir(folder_path):\n",
    "    for each_file in os.listdir(folder_path + folder):\n",
    "        if folder == \"Smoke\":\n",
    "            label.append(1)\n",
    "        else:\n",
    "            label.append(0)\n",
    "        temp_photo = load_img(folder_path + folder+ \"/\"+each_file, target_size=(254, 254))\n",
    "        temp_photo = img_to_array(temp_photo)\n",
    "        image_data.append(temp_photo)\n",
    "image_data = np.asarray(image_data)\n",
    "label = np.asarray(label)\n",
    "np.save(r\"D:\\Chandigarh University\\Current Sem\\Minor Project\\Researh\\Dataset\\Final Image Dataset\\Input_Images.npy\", image_data)\n",
    "np.save(r\"D:\\Chandigarh University\\Current Sem\\Minor Project\\Researh\\Dataset\\Final Image Dataset\\Outputs.npy\", label)"
   ]
  },
  {
   "cell_type": "markdown",
   "id": "0c97cc32",
   "metadata": {},
   "source": [
    "After converting the images into numpy array, they are stored on the hard disk"
   ]
  },
  {
   "cell_type": "code",
   "execution_count": null,
   "id": "366587f1",
   "metadata": {},
   "outputs": [],
   "source": []
  }
 ],
 "metadata": {
  "kernelspec": {
   "display_name": "Python 3 (ipykernel)",
   "language": "python",
   "name": "python3"
  },
  "language_info": {
   "codemirror_mode": {
    "name": "ipython",
    "version": 3
   },
   "file_extension": ".py",
   "mimetype": "text/x-python",
   "name": "python",
   "nbconvert_exporter": "python",
   "pygments_lexer": "ipython3",
   "version": "3.8.13"
  }
 },
 "nbformat": 4,
 "nbformat_minor": 5
}
